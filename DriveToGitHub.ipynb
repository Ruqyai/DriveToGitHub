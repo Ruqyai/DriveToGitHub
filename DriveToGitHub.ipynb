{
  "nbformat": 4,
  "nbformat_minor": 0,
  "metadata": {
    "colab": {
      "name": "DriveToGitHub.ipynb",
      "provenance": [],
      "mount_file_id": "12OcFoG-xonOVtxM4U1TucDPcjP6fDkFp",
      "authorship_tag": "ABX9TyNbKe7AyqcF/1REo4jimqLF",
      "include_colab_link": true
    },
    "kernelspec": {
      "name": "python3",
      "display_name": "Python 3"
    }
  },
  "cells": [
    {
      "cell_type": "markdown",
      "metadata": {
        "id": "view-in-github",
        "colab_type": "text"
      },
      "source": [
        "<a href=\"https://colab.research.google.com/github/Ruqyai/DriveToGitHub/blob/master/DriveToGitHub.ipynb\" target=\"_parent\"><img src=\"https://colab.research.google.com/assets/colab-badge.svg\" alt=\"Open In Colab\"/></a>"
      ]
    },
    {
      "cell_type": "code",
      "metadata": {
        "id": "nK5fXSRKeKp2",
        "colab_type": "code",
        "colab": {}
      },
      "source": [
        "'''\n",
        "from google.colab import drive\n",
        "drive.mount('/content/drive')\n",
        "'''"
      ],
      "execution_count": 0,
      "outputs": []
    },
    {
      "cell_type": "code",
      "metadata": {
        "id": "6NhGjDiZd8cn",
        "colab_type": "code",
        "colab": {}
      },
      "source": [
        "#%cd drive/My\\ Drive"
      ],
      "execution_count": 0,
      "outputs": []
    },
    {
      "cell_type": "code",
      "metadata": {
        "id": "edxmhofJcZwZ",
        "colab_type": "code",
        "colab": {}
      },
      "source": [
        "from getpass import getpass\n",
        "import os\n",
        "\n",
        "os.environ['USER'] = input('Enter the username of your Github account: ')\n",
        "os.environ['EMAIL'] = input('Enter the email of your Github account: ')\n",
        "os.environ['PASSWORD'] = getpass('Enter the password of your Github account: ')\n",
        "os.environ['REPOSITORY'] = input('Enter the name of the Github repository: ')\n",
        "os.environ['GITHUB_AUTH'] = os.environ['USER'] + ':' + os.environ['PASSWORD']"
      ],
      "execution_count": 0,
      "outputs": []
    },
    {
      "cell_type": "code",
      "metadata": {
        "id": "B7cgpbDEifFv",
        "colab_type": "code",
        "colab": {}
      },
      "source": [
        "!rm -rf $REPOSITORY # To remove the previous clone of the Github repository\n",
        "!git clone https://$GITHUB_AUTH@github.com/$USER/$REPOSITORY.git\n",
        "\n",
        "#os.environ['USER'] = os.environ['PASSWORD'] = os.environ['REPOSITORY'] = os.environ['GITHUB_AUTH'] = \"\""
      ],
      "execution_count": 0,
      "outputs": []
    },
    {
      "cell_type": "code",
      "metadata": {
        "id": "t6ASoLKtckH2",
        "colab_type": "code",
        "colab": {}
      },
      "source": [
        "#!git remote add origin https://os.environ['GITHUB_AUTH']@github.com/os.environ['USER']/reponame.git"
      ],
      "execution_count": 0,
      "outputs": []
    },
    {
      "cell_type": "code",
      "metadata": {
        "id": "rIG3_QTfc6l-",
        "colab_type": "code",
        "colab": {}
      },
      "source": [
        "!git config --global user.email os.environ['EMAIL']\n",
        "!git config --global user.name os.environ['USER']"
      ],
      "execution_count": 0,
      "outputs": []
    },
    {
      "cell_type": "code",
      "metadata": {
        "id": "c9O7Nu0jct40",
        "colab_type": "code",
        "colab": {}
      },
      "source": [
        "%cd DriveToGitHub"
      ],
      "execution_count": 0,
      "outputs": []
    },
    {
      "cell_type": "code",
      "metadata": {
        "id": "-OwuGHxHkHjn",
        "colab_type": "code",
        "colab": {}
      },
      "source": [
        "#!rm rf .git"
      ],
      "execution_count": 0,
      "outputs": []
    },
    {
      "cell_type": "code",
      "metadata": {
        "id": "I2DZEzMqdTPj",
        "colab_type": "code",
        "colab": {}
      },
      "source": [
        "!git init .\n",
        "!git add ."
      ],
      "execution_count": 0,
      "outputs": []
    },
    {
      "cell_type": "code",
      "metadata": {
        "id": "ul5lE22bfY4A",
        "colab_type": "code",
        "colab": {}
      },
      "source": [
        "#!wget https://raw.githubusercontent.com/shekhargulati/python-flask-docker-hello-world/master/app.py"
      ],
      "execution_count": 0,
      "outputs": []
    },
    {
      "cell_type": "code",
      "metadata": {
        "id": "3Z9zTiGYdber",
        "colab_type": "code",
        "colab": {}
      },
      "source": [
        "!git commit -m \"first commit\"\n",
        "!git push -u origin master"
      ],
      "execution_count": 0,
      "outputs": []
    }
  ]
}